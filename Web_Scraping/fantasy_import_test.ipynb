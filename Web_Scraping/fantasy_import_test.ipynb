{
 "cells": [
  {
   "cell_type": "markdown",
   "metadata": {},
   "source": [
    "# Import From Fantasy Roster Saved Page\n",
    "* Need to manually save and rename the html page of all rosters from espn fantasy to the working directory of this notebook."
   ]
  },
  {
   "cell_type": "code",
   "execution_count": 134,
   "metadata": {
    "scrolled": true
   },
   "outputs": [
    {
     "name": "stdout",
     "output_type": "stream",
     "text": [
      "Adebayo,Bam\n"
     ]
    }
   ],
   "source": [
    "import requests\n",
    "from bs4 import BeautifulSoup\n",
    "import pandas as pd\n",
    "import os\n",
    "import csv\n",
    "\n",
    "bb_playername = []\n",
    "os.chdir('C:\\\\Users\\\\marck.velasquez\\\\PycharmProjects\\\\Fantasy_Basketball\\\\Web_Scraping')\n",
    "with open('player_name.csv', encoding='utf-8') as csvfile:\n",
    "    readCSV = csv.reader(csvfile, delimiter = ',')\n",
    "    bb_playername = list(readCSV)\n",
    "\n",
    "print(bb_playername[0][1])\n",
    "\n",
    "teams = []\n",
    "players = []\n",
    "space_player = []\n",
    "with open(\"roster.html\") as f:\n",
    "    contents = f.read()\n",
    "\n",
    "\n",
    "soup = BeautifulSoup(contents, 'html.parser')\n",
    "# print(soup.prettify())\n",
    "\n",
    "\n",
    "for team_names in soup.find_all('span',attrs={\"class\":\"teamName truncate\"}):\n",
    "    teams.append(team_names.get(\"title\"))\n",
    "    \n",
    "for link in soup.find_all('div',attrs={\"class\":\"jsx-2810852873 table--cell player__column\"}):\n",
    "    players.append(link.get(\"title\"))\n",
    "\n",
    "for items in players: \n",
    "    space_split = items.split(\" \", 1)\n",
    "    if len(space_split) > 1:\n",
    "        lastname_first = [space_split[1] + ',' + space_split[0]]\n",
    "    else: \n",
    "        lastname_first = space_split\n",
    "    \n",
    "#    print(lastname_first)\n",
    "    space_player.append(lastname_first)\n",
    "\n",
    "    \n",
    "\n",
    "# <div aria-label=\"Player\" class=\"jsx-2810852873 table--cell player__column\" title=\"Player\">\n",
    "#           <div class=\"jsx-2320949408 league-rosters-tables\">\n",
    "# attrs={'class':'jsx-1120675750 player-column__athlete flex'}}):\n",
    "# <span class=\"teamName truncate\" title=\"Team Rodriguez\">\n",
    "\n",
    "#         <div class=\"jsx-1120675750 player-column__athlete flex\" title=\"Kendrick Nunn\">"
   ]
  },
  {
   "cell_type": "code",
   "execution_count": 152,
   "metadata": {},
   "outputs": [
    {
     "name": "stdout",
     "output_type": "stream",
     "text": [
      "here\n"
     ]
    },
    {
     "data": {
      "text/plain": [
       "'rosterTeam Rodriguez.csv'"
      ]
     },
     "execution_count": 152,
     "metadata": {},
     "output_type": "execute_result"
    }
   ],
   "source": [
    "os.chdir('C:\\\\Users\\\\marck.velasquez\\\\PycharmProjects\\\\Fantasy_Basketball\\\\Web_Scraping')\n",
    "os.chdir('./rosters')\n",
    "\n",
    "csv_names = [] \n",
    "\n",
    "for i in range(0,12):\n",
    "    if (i == 10):\n",
    "        current_team = teams[i]\n",
    "        output_players = space_player[(i+1)*15:(i+1)*15+15]\n",
    "        output_csv = \"roster\" + current_team + \".csv\"\n",
    "        csv_names.append(output_csv)\n",
    "    elif (i == 11):\n",
    "        print(\"here\")\n",
    "        output_players = space_player[150:150+15]\n",
    "        output_csv = \"roster marck\" + \".csv\"\n",
    "        csv_names.append(output_csv)\n",
    "    else: \n",
    "        current_team = teams[i]\n",
    "        output_players = space_player[i*15:i*15+15]\n",
    "        output_csv = \"roster\" + current_team + \".csv\"\n",
    "        csv_names.append(output_csv)\n",
    "        \n",
    "    with open(output_csv, \"w\", encoding='utf-8', newline='') as f_output:\n",
    "        csv_output = csv.writer(f_output, dialect='excel')\n",
    "        csv_output.writerows(output_players)\n",
    "\n",
    "   \n",
    "\n",
    "csv_names[0]"
   ]
  },
  {
   "cell_type": "markdown",
   "metadata": {},
   "source": [
    "# Find Indices that relate to the roster at hand \n",
    "* Each roster will only be allowed the top 10 listed\n",
    "* We will need to ignore any roster spots that are named player\n",
    "* We will need to manuall correct for players with complicated names \n",
    "* check names for players that don't match within the player list index"
   ]
  },
  {
   "cell_type": "code",
   "execution_count": 176,
   "metadata": {
    "scrolled": true
   },
   "outputs": [
    {
     "ename": "IndexError",
     "evalue": "list index out of range",
     "output_type": "error",
     "traceback": [
      "\u001b[1;31m---------------------------------------------------------------------------\u001b[0m",
      "\u001b[1;31mIndexError\u001b[0m                                Traceback (most recent call last)",
      "\u001b[1;32m<ipython-input-176-bb1b28be5a05>\u001b[0m in \u001b[0;36m<module>\u001b[1;34m\u001b[0m\n\u001b[0;32m     13\u001b[0m             \u001b[1;32mbreak\u001b[0m\u001b[1;33m\u001b[0m\u001b[0m\n\u001b[0;32m     14\u001b[0m         \u001b[1;32melif\u001b[0m \u001b[0many\u001b[0m\u001b[1;33m(\u001b[0m\u001b[0minput_name\u001b[0m\u001b[1;33m[\u001b[0m\u001b[1;36m0\u001b[0m\u001b[1;33m]\u001b[0m \u001b[1;32min\u001b[0m \u001b[0ms\u001b[0m \u001b[1;32mfor\u001b[0m \u001b[0ms\u001b[0m \u001b[1;32min\u001b[0m \u001b[0mbb_playername\u001b[0m\u001b[1;33m)\u001b[0m\u001b[1;33m:\u001b[0m\u001b[1;33m\u001b[0m\u001b[0m\n\u001b[1;32m---> 15\u001b[1;33m             \u001b[0mteam_rosters\u001b[0m\u001b[1;33m[\u001b[0m\u001b[0mcounter\u001b[0m\u001b[1;33m]\u001b[0m\u001b[1;33m.\u001b[0m\u001b[0mappend\u001b[0m\u001b[1;33m(\u001b[0m\u001b[0minput_name\u001b[0m\u001b[1;33m[\u001b[0m\u001b[1;36m0\u001b[0m\u001b[1;33m]\u001b[0m\u001b[1;33m)\u001b[0m\u001b[1;33m\u001b[0m\u001b[0m\n\u001b[0m\u001b[0;32m     16\u001b[0m         \u001b[1;32melse\u001b[0m\u001b[1;33m:\u001b[0m\u001b[1;33m\u001b[0m\u001b[0m\n\u001b[0;32m     17\u001b[0m             \u001b[0mnames_found\u001b[0m\u001b[1;33m.\u001b[0m\u001b[0mappend\u001b[0m\u001b[1;33m(\u001b[0m\u001b[0minput_name\u001b[0m\u001b[1;33m[\u001b[0m\u001b[1;36m0\u001b[0m\u001b[1;33m]\u001b[0m\u001b[1;33m)\u001b[0m\u001b[1;33m\u001b[0m\u001b[0m\n",
      "\u001b[1;31mIndexError\u001b[0m: list index out of range"
     ]
    }
   ],
   "source": [
    "temp_roster = []\n",
    "names_found = []\n",
    "team_rosters = []\n",
    "counter = 0\n",
    "for roster_sheets in csv_names:\n",
    "    with open(roster_sheets) as csvfile:\n",
    "        readCSV = csv.reader(csvfile, delimiter=',')\n",
    "        for lines in readCSV:\n",
    "            temp_roster.append(lines)\n",
    "        \n",
    "    for input_name in temp_roster:\n",
    "        if (input_name[0] == 'Player'):\n",
    "            break\n",
    "        elif any(input_name[0] in s for s in bb_playername):\n",
    "            team_rosters[counter].append(input_name[0])\n",
    "        else:\n",
    "            names_found.append(input_name[0])\n",
    "            print('MISSING: ' + input_name[0] )\n",
    "            \n",
    "    counter = counter + 1\n",
    "\n",
    "names_found"
   ]
  }
 ],
 "metadata": {
  "kernelspec": {
   "display_name": "Python 3",
   "language": "python",
   "name": "python3"
  }
 },
 "nbformat": 4,
 "nbformat_minor": 2
}
