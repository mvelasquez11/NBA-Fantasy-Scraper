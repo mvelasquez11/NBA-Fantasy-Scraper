{
 "cells": [
  {
   "cell_type": "markdown",
   "metadata": {},
   "source": [
    "# Main Scraper for Each Player into a Spreadsheet\n",
    "* Loops through all available players and \n"
   ]
  },
  {
   "cell_type": "code",
   "execution_count": 54,
   "metadata": {},
   "outputs": [],
   "source": [
    "import requests\n",
    "from bs4 import BeautifulSoup\n",
    "import pandas as pd\n",
    "import os\n",
    "import csv\n",
    "\n",
    "\n",
    "os.chdir('C:\\\\Users\\\\marck.velasquez\\\\PycharmProjects\\\\Fantasy_Basketball\\\\Web_Scraping')\n",
    "\n",
    "player_link = []\n",
    "\n",
    "with open('player_links.csv') as f:\n",
    "    reader = csv.reader(f, delimiter=',')\n",
    "    for lines in reader:\n",
    "        player_link = list(lines)\n",
    "\n",
    "        \n",
    "with open('player_shortnames.csv') as g:\n",
    "    reader = csv.reader(g,delimiter=',')\n",
    "    for lines in reader:\n",
    "        player_name = list(lines)\n",
    "\n"
   ]
  },
  {
   "cell_type": "code",
   "execution_count": 55,
   "metadata": {},
   "outputs": [],
   "source": [
    "counter = 0\n",
    "for url in player_link: \n",
    "#   url = 'https://www.basketball-reference.com/players/h/hardeja01/gamelog/2020/'\n",
    "   \n",
    "    page = requests.get(url)\n",
    "    # page\n",
    "    # page.content\n",
    "\n",
    "    soup = BeautifulSoup(page.content, 'html.parser')\n",
    "    # print(soup.prettify())\n",
    "\n",
    "\n",
    "    stats = ['game_season', 'date_game', 'age', 'team_id', 'game_location', 'opp_id', 'game_result','gs', 'mp', 'fg',\n",
    "    'fga', 'fg_pct', 'fg3', 'fg3a', 'fg3_pct', 'ft', 'fta', 'ft_pct', 'orb','drb', 'trb', 'ast', 'stl', 'blk', 'tov', 'pf', 'pts', 'game_score', 'plus_minus']\n",
    "\n",
    "    stats_list = [[td.getText() for td in soup.findAll('td',{'data-stat': stat})] for stat in stats]\n",
    "    stats_left = [[td.getText() for td in soup.findAll('td',{'data-stat': stat})] for stat in stats[:7]]\n",
    "    stats_right = [[td.getText() for td in soup.findAll('td',{'data-stat': stat})] for stat in stats[7:]]\n",
    "\n",
    "    pd.DataFrame(stats_list).T.head(10)\n",
    "    df_left = pd.DataFrame(stats_left).T\n",
    "    df_left.columns = stats[:7]\n",
    "    df_left.head(5)\n",
    "\n",
    "\n",
    "    for i in range(len(df_left)):\n",
    "        if df_left['game_season'][i]==\"\":\n",
    "            [stats_right[x].insert(i, '') for x in range(len(stats_right))]\n",
    "\n",
    "\n",
    "    df_right = pd.DataFrame(stats_right).T\n",
    "    df_right.columns = stats[7:]\n",
    "    df = pd.concat([df_left,df_right], axis=1)\n",
    "    df\n",
    "\n",
    "    new_df = df[:82]\n",
    "\n",
    "\n",
    "    avg_pts = new_df[new_df.game_season!='']['pts'].astype(float).mean().round(1)\n",
    "    avg_pts\n",
    "    os.chdir('C:\\\\Users\\\\marck.velasquez\\\\PycharmProjects\\\\Fantasy_Basketball\\\\Web_Scraping')\n",
    "    cwd = os.getcwd()\n",
    "    cwd\n",
    "    \n",
    "    \n",
    "    os.chdir('./game_logs')\n",
    "    player_csv_name = '2019_20_' + player_name[counter] + '.csv'\n",
    "    new_df.to_csv( player_csv_name , index=False)\n",
    "    counter = counter + 1 \n"
   ]
  }
 ],
 "metadata": {
  "kernelspec": {
   "display_name": "Python 3",
   "language": "python",
   "name": "python3"
  },
  "language_info": {
   "codemirror_mode": {
    "name": "ipython",
    "version": 3
   },
   "file_extension": ".py",
   "mimetype": "text/x-python",
   "name": "python",
   "nbconvert_exporter": "python",
   "pygments_lexer": "ipython3",
   "version": "3.7.0"
  }
 },
 "nbformat": 4,
 "nbformat_minor": 2
}
